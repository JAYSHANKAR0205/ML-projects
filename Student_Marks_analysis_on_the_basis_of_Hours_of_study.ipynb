{
  "nbformat": 4,
  "nbformat_minor": 0,
  "metadata": {
    "colab": {
      "provenance": [],
      "authorship_tag": "ABX9TyO/5ZruS/s5ftvFTS54CZIj",
      "include_colab_link": true
    },
    "kernelspec": {
      "name": "python3",
      "display_name": "Python 3"
    },
    "language_info": {
      "name": "python"
    }
  },
  "cells": [
    {
      "cell_type": "markdown",
      "metadata": {
        "id": "view-in-github",
        "colab_type": "text"
      },
      "source": [
        "<a href=\"https://colab.research.google.com/github/JAYSHANKAR0205/ML-projects/blob/main/Student_Marks_analysis_on_the_basis_of_Hours_of_study.ipynb\" target=\"_parent\"><img src=\"https://colab.research.google.com/assets/colab-badge.svg\" alt=\"Open In Colab\"/></a>"
      ]
    },
    {
      "cell_type": "code",
      "execution_count": null,
      "metadata": {
        "colab": {
          "base_uri": "https://localhost:8080/"
        },
        "id": "rbAzEOwyaI78",
        "outputId": "5632eadc-72f0-45dc-a2c6-c74869c36d10"
      },
      "outputs": [
        {
          "output_type": "stream",
          "name": "stdout",
          "text": [
            "enter number of hours you study: 5.5\n",
            "your predicted score is 68.55\n"
          ]
        },
        {
          "output_type": "stream",
          "name": "stderr",
          "text": [
            "/usr/local/lib/python3.11/dist-packages/sklearn/utils/validation.py:2739: UserWarning: X does not have valid feature names, but LinearRegression was fitted with feature names\n",
            "  warnings.warn(\n"
          ]
        }
      ],
      "source": [
        "# On the basis on number of hours students study, Predict their marks.\n",
        "\n",
        "import numpy as np\n",
        "import pandas as pd\n",
        "from sklearn.model_selection import train_test_split\n",
        "from sklearn.linear_model import LinearRegression\n",
        "AnalysisData={'hours of Study': [2,3,4,5,6,7,8,9,10,11,12], 'Exam Score': [45,50,60,70,75,80,83,88,90,94,97]}\n",
        "df=pd.DataFrame(AnalysisData)\n",
        "\n",
        "#save the features into variable for further analysis\n",
        "X=df[['hours of Study']]\n",
        "Y=df[['Exam Score']]\n",
        "\n",
        "# 70/80 percent data will be trained and 30/20 percent will be tested.\n",
        "X_train,X_test,Y_train,Y_test = train_test_split(X,Y, test_size=0.2, random_state=42)\n",
        "\n",
        "#fix the model on which your data work\n",
        "model=LinearRegression()\n",
        "model.fit(X_train,Y_train)\n",
        "\n",
        "#User input Testing\n",
        "user=float(input(\"enter number of hours you study: \"))\n",
        "answer = model.predict([[user]])\n",
        "\n",
        "print(f\"your predicted score is {answer[0][0]:.2f}\")\n"
      ]
    },
    {
      "cell_type": "code",
      "source": [
        "from google.colab import drive\n",
        "drive.mount('/content/drive')"
      ],
      "metadata": {
        "id": "qVmNbXH1HBBQ"
      },
      "execution_count": null,
      "outputs": []
    }
  ]
}