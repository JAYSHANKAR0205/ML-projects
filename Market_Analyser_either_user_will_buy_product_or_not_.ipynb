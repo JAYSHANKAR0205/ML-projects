{
  "nbformat": 4,
  "nbformat_minor": 0,
  "metadata": {
    "colab": {
      "provenance": [],
      "authorship_tag": "ABX9TyPkR2w8zoeAKZbkR1UvwznG",
      "include_colab_link": true
    },
    "kernelspec": {
      "name": "python3",
      "display_name": "Python 3"
    },
    "language_info": {
      "name": "python"
    }
  },
  "cells": [
    {
      "cell_type": "markdown",
      "metadata": {
        "id": "view-in-github",
        "colab_type": "text"
      },
      "source": [
        "<a href=\"https://colab.research.google.com/github/JAYSHANKAR0205/ML-projects/blob/main/Market_Analyser_either_user_will_buy_product_or_not_.ipynb\" target=\"_parent\"><img src=\"https://colab.research.google.com/assets/colab-badge.svg\" alt=\"Open In Colab\"/></a>"
      ]
    },
    {
      "cell_type": "code",
      "source": [
        "#Predict on the basis of use age, user time spent on website, user added product in cart, user buy the product or not.\n",
        "\n",
        "import  numpy as np\n",
        "from sklearn.model_selection import train_test_split\n",
        "from sklearn.linear_model import LogisticRegression\n",
        "X=np.array([[24,12,1], [25,10,0] ,[30,22,1] ,[32,35,1], [30,40,0], [31,36,1] , [26,30,0], [27,35,1]])\n",
        "Y=np.array([1,0,1,1,0,1,0,1])\\\n",
        "X_train,X_test,Y_train,Y_test= train_test_split(X,Y, test_size=0.2, random_state=42)\n",
        "model=LogisticRegression()\n",
        "df=model.fit(X_train,Y_train)\n",
        "accuracy=model.score(X_test,Y_test)\n",
        "print(accuracy)\n",
        "\n",
        "user_age=float(input(\"age of a person\"))\n",
        "user_time_spent=float(input(\"Time spent on website\"))\n",
        "user_cart=int(input(\"enter 1 if yes otherwise enter 0\"))\n",
        "prediction=model.predict([[user_age,user_time_spent,user_cart]])\n",
        "if prediction==1:\n",
        "  print(\"user will buy the product\")\n",
        "else:\n",
        "  print(\"user can't but any product\")\n"
      ],
      "metadata": {
        "colab": {
          "base_uri": "https://localhost:8080/"
        },
        "id": "5gjmeci3Tvy5",
        "outputId": "d259bcaa-b1f7-4361-909c-0874125f9fbe"
      },
      "execution_count": null,
      "outputs": [
        {
          "output_type": "stream",
          "name": "stdout",
          "text": [
            "0.5\n",
            "age of a person22\n",
            "Time spent on website12.5\n",
            "enter 1 if yes otherwise enter 01\n",
            "user will buy the product\n"
          ]
        }
      ]
    }
  ]
}