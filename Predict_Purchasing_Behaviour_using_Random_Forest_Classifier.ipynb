{
  "nbformat": 4,
  "nbformat_minor": 0,
  "metadata": {
    "colab": {
      "provenance": [],
      "authorship_tag": "ABX9TyP7XBPD8zo48pUidu6Uo2qn",
      "include_colab_link": true
    },
    "kernelspec": {
      "name": "python3",
      "display_name": "Python 3"
    },
    "language_info": {
      "name": "python"
    }
  },
  "cells": [
    {
      "cell_type": "markdown",
      "metadata": {
        "id": "view-in-github",
        "colab_type": "text"
      },
      "source": [
        "<a href=\"https://colab.research.google.com/github/JAYSHANKAR0205/ML-projects/blob/main/Predict_Purchasing_Behaviour_using_Random_Forest_Classifier.ipynb\" target=\"_parent\"><img src=\"https://colab.research.google.com/assets/colab-badge.svg\" alt=\"Open In Colab\"/></a>"
      ]
    },
    {
      "cell_type": "code",
      "execution_count": null,
      "metadata": {
        "id": "1JP5PGDmpCDI"
      },
      "outputs": [],
      "source": [
        "# Use a random forest classifier to predict whether a person is likely to purchase a product based on certain features like Age, Gender, Estimated salary.\n",
        "import numpy as np\n",
        "import pandas as pd\n",
        "from sklearn.model_selection import train_test_split\n",
        "from sklearn.ensemble import RandomForestClassifier\n",
        "from sklearn.preprocessing import LabelEncoder\n",
        "from sklearn.metrics import accuracy_score\n"
      ]
    },
    {
      "cell_type": "code",
      "source": [
        "# Creating Data\n",
        "data={\"Age\":[25,43,45,56,34,38,22,18,29,35],\"Gender\":['M','F','M','M','F','M','F','M','F','F'],\"Salary\":[50000,60000,70000,65000,80000,45000,56000,42000,30000,35000],\"Purchase\":[1,0,1,0,1,0,0,1,1,0]}\n",
        "df=pd.DataFrame(data)\n",
        "print(df)"
      ],
      "metadata": {
        "colab": {
          "base_uri": "https://localhost:8080/"
        },
        "id": "7HbTz3mSrJDw",
        "outputId": "60982312-55b3-4600-db6d-2413dd2dd0c3"
      },
      "execution_count": null,
      "outputs": [
        {
          "output_type": "stream",
          "name": "stdout",
          "text": [
            "   Age Gender  Salary  Purchase\n",
            "0   25      M   50000         1\n",
            "1   43      F   60000         0\n",
            "2   45      M   70000         1\n",
            "3   56      M   65000         0\n",
            "4   34      F   80000         1\n",
            "5   38      M   45000         0\n",
            "6   22      F   56000         0\n",
            "7   18      M   42000         1\n",
            "8   29      F   30000         1\n",
            "9   35      F   35000         0\n"
          ]
        }
      ]
    },
    {
      "cell_type": "code",
      "source": [
        "label_encoder=LabelEncoder()\n",
        "df[\"Gender\"]=label_encoder.fit_transform(df[\"Gender\"])\n",
        "x=df.drop(\"Purchase\",axis=1)\n",
        "y=df[\"Purchase\"]\n",
        "x_train,x_test,y_train,y_test=train_test_split(x,y,test_size=0.2 , random_state=42)\n",
        "rf_classifier=RandomForestClassifier(n_estimators=100, random_state=42)\n",
        "model_fitting=rf_classifier.fit(x_train,y_train)\n",
        "y_pred=rf_classifier.predict(x_test)\n",
        "accuracy=accuracy_score(y_test,y_pred)\n",
        "print(accuracy)"
      ],
      "metadata": {
        "colab": {
          "base_uri": "https://localhost:8080/"
        },
        "id": "dQIiMJ0Ms-_r",
        "outputId": "9b1d5d33-0f39-495d-9559-2be6a174348a"
      },
      "execution_count": null,
      "outputs": [
        {
          "output_type": "stream",
          "name": "stdout",
          "text": [
            "0.5\n"
          ]
        }
      ]
    },
    {
      "cell_type": "code",
      "source": [
        "# User Input\n",
        "user_age=float(input(\"Enter your age: \"))\n",
        "user_gender=input(\"Enter your gender from M/F: \")\n",
        "user_salary=float(input(\"Enter your Salary: \"))\n",
        "user_gender_encoded=label_encoder.transform([user_gender])[0]\n",
        "user_data=np.array([[user_age,user_gender_encoded,user_salary]])\n",
        "prediction=rf_classifier.predict(user_data)\n",
        "print(prediction)\n",
        "if prediction[0]==1:\n",
        "  print(\"User is likely to purchase product\")\n",
        "else:\n",
        "  print(\"User is not likely to purchase product\")"
      ],
      "metadata": {
        "colab": {
          "base_uri": "https://localhost:8080/"
        },
        "id": "Slk_hkGetTV8",
        "outputId": "b2cb2025-11f9-4aed-fd69-8f7d0b31d7f9"
      },
      "execution_count": null,
      "outputs": [
        {
          "output_type": "stream",
          "name": "stdout",
          "text": [
            "Enter your age: 22\n",
            "Enter your gender from M/F: M\n",
            "Enter your Salary: 40000\n",
            "[1]\n",
            "User is likely to purchase product\n"
          ]
        },
        {
          "output_type": "stream",
          "name": "stderr",
          "text": [
            "/usr/local/lib/python3.11/dist-packages/sklearn/utils/validation.py:2739: UserWarning: X does not have valid feature names, but RandomForestClassifier was fitted with feature names\n",
            "  warnings.warn(\n"
          ]
        }
      ]
    }
  ]
}