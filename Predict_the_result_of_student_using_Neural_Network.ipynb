{
  "nbformat": 4,
  "nbformat_minor": 0,
  "metadata": {
    "colab": {
      "provenance": [],
      "authorship_tag": "ABX9TyP3EoTREoH+TxwwK5sUDm17",
      "include_colab_link": true
    },
    "kernelspec": {
      "name": "python3",
      "display_name": "Python 3"
    },
    "language_info": {
      "name": "python"
    }
  },
  "cells": [
    {
      "cell_type": "markdown",
      "metadata": {
        "id": "view-in-github",
        "colab_type": "text"
      },
      "source": [
        "<a href=\"https://colab.research.google.com/github/JAYSHANKAR0205/ML-projects/blob/main/Predict_the_result_of_student_using_Neural_Network.ipynb\" target=\"_parent\"><img src=\"https://colab.research.google.com/assets/colab-badge.svg\" alt=\"Open In Colab\"/></a>"
      ]
    },
    {
      "cell_type": "code",
      "execution_count": null,
      "metadata": {
        "colab": {
          "base_uri": "https://localhost:8080/"
        },
        "id": "V_ihDX5mdPDB",
        "outputId": "ce07fbc4-c13f-449d-c615-1830e09b0409"
      },
      "outputs": [
        {
          "output_type": "stream",
          "name": "stderr",
          "text": [
            "/usr/local/lib/python3.11/dist-packages/sklearn/neural_network/_multilayer_perceptron.py:691: ConvergenceWarning: Stochastic Optimizer: Maximum iterations (1000) reached and the optimization hasn't converged yet.\n",
            "  warnings.warn(\n"
          ]
        },
        {
          "output_type": "stream",
          "name": "stdout",
          "text": [
            "Mean Squared Error: (array([0, 0, 1, 0, 1, 1, 1, 1, 0, 1]), array([0, 0, 1, 1, 1, 1, 1, 1, 1, 1]))\n",
            "Enter the hours of study: 7\n",
            "Enter the previous exam score: 76\n",
            "On the basis of hours they read 7.0 and previous exam score 76.0: student will ['Pass'] the exam. \n"
          ]
        }
      ],
      "source": [
        "'''Problem Statement:\n",
        "You re tasked to create a neural network model to predict whether a student will pass or fail an exam based on hours of study and previous exam score.'''\n",
        "import  numpy as np\n",
        "import pandas as pd\n",
        "from sklearn.neural_network import MLPClassifier\n",
        "from sklearn.preprocessing import LabelEncoder\n",
        "from sklearn.metrics import mean_squared_error\n",
        "# Creating data\n",
        "Hours_of_study = np.array([1,2,3,4,5,6,7,8,9,10])\n",
        "Previous_exam_score = np.array([20,25,60,55,60,85,70,85,90,95])\n",
        "Pass_or_fail = np.array([\"Fail\",\"Fail\",\"Pass\",\"Fail\",\"Pass\",\"Pass\",\"Pass\",\"Pass\",\"Fail\",\"Pass\"])\n",
        "#Encode the categorical data into numerical data\n",
        "Label_encoder=LabelEncoder()\n",
        "Pass_or_fail_encoded=Label_encoder.fit_transform(Pass_or_fail)\n",
        "x=np.column_stack((Hours_of_study,Previous_exam_score))\n",
        "y=Pass_or_fail_encoded\n",
        "clf=MLPClassifier(hidden_layer_sizes=(4,),max_iter=1000,activation=\"logistic\",random_state=42)\n",
        "clf.fit(x,y)\n",
        "y_pred=clf.predict(x)\n",
        "mse=(y,y_pred)\n",
        "print(\"Mean Squared Error:\",mse)\n",
        "\n",
        "# User Input\n",
        "user_hours_of_study = float(input(\"Enter the hours of study: \"))\n",
        "user_previous_exam_score = float(input(\"Enter the previous exam score: \"))\n",
        "user_input = np.array([[user_hours_of_study, user_previous_exam_score]])\n",
        "prediction=clf.predict(user_input)\n",
        "decoded_prediction=Label_encoder.inverse_transform(prediction)\n",
        "print(f\"On the basis of hours they read {user_hours_of_study} and previous exam score {user_previous_exam_score}: student will {decoded_prediction} the exam. \")\n",
        "\n"
      ]
    }
  ]
}