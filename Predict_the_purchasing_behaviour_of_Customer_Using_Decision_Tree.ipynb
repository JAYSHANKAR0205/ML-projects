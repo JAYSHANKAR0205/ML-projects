{
  "nbformat": 4,
  "nbformat_minor": 0,
  "metadata": {
    "colab": {
      "provenance": [],
      "authorship_tag": "ABX9TyPK5fHTiE8TVui+nnkhbaLm",
      "include_colab_link": true
    },
    "kernelspec": {
      "name": "python3",
      "display_name": "Python 3"
    },
    "language_info": {
      "name": "python"
    }
  },
  "cells": [
    {
      "cell_type": "markdown",
      "metadata": {
        "id": "view-in-github",
        "colab_type": "text"
      },
      "source": [
        "<a href=\"https://colab.research.google.com/github/JAYSHANKAR0205/ML-projects/blob/main/Predict_the_purchasing_behaviour_of_Customer_Using_Decision_Tree.ipynb\" target=\"_parent\"><img src=\"https://colab.research.google.com/assets/colab-badge.svg\" alt=\"Open In Colab\"/></a>"
      ]
    },
    {
      "cell_type": "code",
      "execution_count": null,
      "metadata": {
        "colab": {
          "base_uri": "https://localhost:8080/"
        },
        "id": "cMMNCcU6QN14",
        "outputId": "a0f0d609-7e5b-42ae-a3f9-3cc5d6943741"
      },
      "outputs": [
        {
          "output_type": "stream",
          "name": "stdout",
          "text": [
            "   Age  Income  Education  Buy_or_Not\n",
            "0   25   30000          1           1\n",
            "1   30   40000          2           0\n",
            "2   32   35000          2           0\n",
            "3   45   90000          1           1\n",
            "4   52  120000          3           1\n",
            "5   46   95000          2           0\n",
            "6   21   42000          0           1\n"
          ]
        }
      ],
      "source": [
        "# Predict a person buy a smartphone on the basis of their age, education, income.\n",
        "import numpy as np\n",
        "import pandas as pd\n",
        "from sklearn.model_selection import train_test_split\n",
        "from sklearn.tree import DecisionTreeClassifier\n",
        "from sklearn.metrics import accuracy_score\n",
        "data={\"Age\":[25,30,32,45,52,46,21],\"Income\":[30000,40000,35000,90000,120000,95000,42000],\"Education\":[1,2,2,1,3,2,0],\"Buy_or_Not\":[1,0,0,1,1,0,1]}#Education= 0:12th passed, 1: GRADUATE, 2: MASTER DEGREE, 3:Phd\n",
        "#Buy_or_Not= 0: Not Buy , 1: Buy\n",
        "df=pd.DataFrame(data)\n",
        "print(df)\n",
        "\n"
      ]
    },
    {
      "cell_type": "code",
      "source": [
        "x=df[[\"Age\",\"Income\",\"Education\"]]\n",
        "y=df[[\"Buy_or_Not\"]]\n",
        "x_train,x_test,y_train,y_test=train_test_split(x,y,test_size=0.2,random_state=42)\n",
        "model=DecisionTreeClassifier()\n",
        "classify=model.fit(x_train,y_train)\n",
        "y_pred=model.predict(x_test)\n",
        "accuracy=accuracy_score(y_test,y_pred)\n",
        "print(accuracy)\n",
        "\n"
      ],
      "metadata": {
        "colab": {
          "base_uri": "https://localhost:8080/"
        },
        "id": "MPphPio2ys7r",
        "outputId": "d5efae89-8034-488c-b6c0-3223978af4e8"
      },
      "execution_count": null,
      "outputs": [
        {
          "output_type": "stream",
          "name": "stdout",
          "text": [
            "1.0\n"
          ]
        }
      ]
    },
    {
      "cell_type": "code",
      "source": [
        "#User input\n",
        "user_age=float(input(\"Enter your age: \"))\n",
        "user_income=float(input(\"Enter your income: \"))\n",
        "user_education=int(input(\"Enter your education level: \"))\n",
        "user_manual=np.array([[user_age,user_income,user_education]])\n",
        "prediction=model.predict(user_manual)\n",
        "print(prediction[0])\n",
        "if prediction[0]==1:\n",
        "    print(\"User can buy the product\")\n",
        "else:\n",
        "    print(\"User can't buy the product\")"
      ],
      "metadata": {
        "colab": {
          "base_uri": "https://localhost:8080/"
        },
        "id": "dHeHTt8qDtcv",
        "outputId": "cba4d288-7093-472b-b55b-f8eab010deec"
      },
      "execution_count": null,
      "outputs": [
        {
          "output_type": "stream",
          "name": "stdout",
          "text": [
            "Enter your age:21\n",
            "Enter your income: 40000\n",
            "Enter your education level1\n",
            "1\n",
            "User can buy the product\n"
          ]
        },
        {
          "output_type": "stream",
          "name": "stderr",
          "text": [
            "/usr/local/lib/python3.11/dist-packages/sklearn/utils/validation.py:2739: UserWarning: X does not have valid feature names, but DecisionTreeClassifier was fitted with feature names\n",
            "  warnings.warn(\n"
          ]
        }
      ]
    }
  ]
}